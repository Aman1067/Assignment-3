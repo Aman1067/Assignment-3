{
 "cells": [
  {
   "cell_type": "markdown",
   "id": "a74c6aae",
   "metadata": {},
   "source": [
    "1. Why are functions advantageous to have in your programs?\n",
    "\n",
    "With the help of functions, we can avoid rewriting the same logic or code again and again in a program. "
   ]
  },
  {
   "cell_type": "markdown",
   "id": "99f24274",
   "metadata": {},
   "source": [
    "2. When does the code in a function run: when it's specified or when it's called?\n",
    "\n",
    "The code in a function run when its called."
   ]
  },
  {
   "cell_type": "markdown",
   "id": "f7db3d4a",
   "metadata": {},
   "source": [
    "3. What statement creates a function?\n",
    "\n",
    "Function is created using def keyword like:-"
   ]
  },
  {
   "cell_type": "code",
   "execution_count": 1,
   "id": "16def967",
   "metadata": {},
   "outputs": [],
   "source": [
    "def func(a):\n",
    "    return a"
   ]
  },
  {
   "cell_type": "markdown",
   "id": "1fe73a95",
   "metadata": {},
   "source": [
    "4. What is the difference between a function and a function call?\n",
    "\n",
    "A function is used to perform a particular operation defined by user and function call helps in executing or running the function."
   ]
  },
  {
   "cell_type": "markdown",
   "id": "9cc0e516",
   "metadata": {},
   "source": [
    "5. How many global scopes are there in a Python program? How many local scopes?\n",
    "\n",
    "There is one global scope which is defined outside a function and one local scope which is defined inside a function."
   ]
  },
  {
   "cell_type": "markdown",
   "id": "0585f2c9",
   "metadata": {},
   "source": [
    "6. What happens to variables in a local scope when the function call returns?\n",
    "\n",
    "Local variables disappear after the function call returns."
   ]
  },
  {
   "cell_type": "markdown",
   "id": "7db84a19",
   "metadata": {},
   "source": [
    "7. What is the concept of a return value? Is it possible to have a return value in an expression?\n",
    "\n",
    "Return value helps in executing the function defined by user and run the function after return call. Its possible to use return value in an expression by assigning expression values to a function."
   ]
  },
  {
   "cell_type": "markdown",
   "id": "f58d2fc7",
   "metadata": {},
   "source": [
    "8. If a function does not have a return statement, what is the return value of a call to that function?\n",
    "\n",
    "If a function have blank return statement it will return none value."
   ]
  },
  {
   "cell_type": "markdown",
   "id": "fc773afa",
   "metadata": {},
   "source": [
    "9. How do you make a function variable refer to the global variable?\n",
    "\n",
    "A function variable can be made global by using global keyword inside a function."
   ]
  },
  {
   "cell_type": "markdown",
   "id": "900c6b1f",
   "metadata": {},
   "source": [
    "10. What is the data type of None?\n",
    "\n",
    "None has data type of class None."
   ]
  },
  {
   "cell_type": "markdown",
   "id": "afb6b646",
   "metadata": {},
   "source": [
    "11. What does the sentence import areallyourpetsnamederic do?\n",
    "\n",
    "The sentence will import a module named areallyourpetsnamederic."
   ]
  },
  {
   "cell_type": "markdown",
   "id": "3b70ea00",
   "metadata": {},
   "source": [
    "12. If you had a bacon() feature in a spam module, what would you call it after importing spam?\n",
    "\n",
    "In spam module bacon() feature can be called as spam.bacon()"
   ]
  },
  {
   "cell_type": "markdown",
   "id": "04bb1ed4",
   "metadata": {},
   "source": [
    "13. What can you do to save a programme from crashing if it encounters an error?\n",
    "\n",
    "By putting the code which shows error in try clause can save the program from crashing."
   ]
  },
  {
   "cell_type": "markdown",
   "id": "65e099f4",
   "metadata": {},
   "source": [
    "14. What is the purpose of the try clause? What is the purpose of the except clause?\n",
    "\n",
    "Try clause helps in testing a code for errors or helps in identifying the errors in a code while except clause helps in handling the error depending upon the type of error we got."
   ]
  }
 ],
 "metadata": {
  "kernelspec": {
   "display_name": "Python 3 (ipykernel)",
   "language": "python",
   "name": "python3"
  },
  "language_info": {
   "codemirror_mode": {
    "name": "ipython",
    "version": 3
   },
   "file_extension": ".py",
   "mimetype": "text/x-python",
   "name": "python",
   "nbconvert_exporter": "python",
   "pygments_lexer": "ipython3",
   "version": "3.9.7"
  }
 },
 "nbformat": 4,
 "nbformat_minor": 5
}
